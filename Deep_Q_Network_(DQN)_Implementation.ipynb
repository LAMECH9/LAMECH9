{
  "nbformat": 4,
  "nbformat_minor": 0,
  "metadata": {
    "colab": {
      "provenance": [],
      "toc_visible": true,
      "authorship_tag": "ABX9TyPiD4q2uEPaQBIExiDQ0oA2",
      "include_colab_link": true
    },
    "kernelspec": {
      "name": "python3",
      "display_name": "Python 3"
    },
    "language_info": {
      "name": "python"
    }
  },
  "cells": [
    {
      "cell_type": "markdown",
      "metadata": {
        "id": "view-in-github",
        "colab_type": "text"
      },
      "source": [
        "<a href=\"https://colab.research.google.com/github/LAMECH9/LAMECH9/blob/main/Deep_Q_Network_(DQN)_Implementation.ipynb\" target=\"_parent\"><img src=\"https://colab.research.google.com/assets/colab-badge.svg\" alt=\"Open In Colab\"/></a>"
      ]
    },
    {
      "cell_type": "markdown",
      "source": [
        "# Step 1: Set Up Google Colab Environment"
      ],
      "metadata": {
        "id": "B4WOTyXBvRaq"
      }
    },
    {
      "cell_type": "code",
      "source": [
        "import numpy as np\n",
        "import tensorflow as tf\n",
        "from tensorflow.keras.models import Sequential\n",
        "from tensorflow.keras.layers import Dense\n",
        "from tensorflow.keras.optimizers import Adam\n",
        "import gym\n",
        "import random\n",
        "from collections import deque\n",
        "import matplotlib.pyplot as plt\n",
        "\n",
        "# Check if running in Colab and mount Google Drive\n",
        "try:\n",
        "    from google.colab import drive\n",
        "    IN_COLAB = True\n",
        "except:\n",
        "    IN_COLAB = False\n",
        "\n",
        "if IN_COLAB:\n",
        "    drive.mount('/content/drive')\n",
        "    !pip install gym[classic_control]  # Install OpenAI Gym"
      ],
      "metadata": {
        "colab": {
          "base_uri": "https://localhost:8080/"
        },
        "id": "sKtiB-Z5vWzT",
        "outputId": "1cf1c5d0-84bd-489f-b2c7-c909c7bf4ebe"
      },
      "execution_count": 2,
      "outputs": [
        {
          "output_type": "stream",
          "name": "stdout",
          "text": [
            "Drive already mounted at /content/drive; to attempt to forcibly remount, call drive.mount(\"/content/drive\", force_remount=True).\n",
            "Requirement already satisfied: gym[classic_control] in /usr/local/lib/python3.11/dist-packages (0.25.2)\n",
            "Requirement already satisfied: numpy>=1.18.0 in /usr/local/lib/python3.11/dist-packages (from gym[classic_control]) (2.0.2)\n",
            "Requirement already satisfied: cloudpickle>=1.2.0 in /usr/local/lib/python3.11/dist-packages (from gym[classic_control]) (3.1.1)\n",
            "Requirement already satisfied: gym-notices>=0.0.4 in /usr/local/lib/python3.11/dist-packages (from gym[classic_control]) (0.0.8)\n",
            "Collecting pygame==2.1.0 (from gym[classic_control])\n",
            "  Using cached pygame-2.1.0.tar.gz (5.8 MB)\n",
            "  \u001b[1;31merror\u001b[0m: \u001b[1msubprocess-exited-with-error\u001b[0m\n",
            "  \n",
            "  \u001b[31m×\u001b[0m \u001b[32mpython setup.py egg_info\u001b[0m did not run successfully.\n",
            "  \u001b[31m│\u001b[0m exit code: \u001b[1;36m1\u001b[0m\n",
            "  \u001b[31m╰─>\u001b[0m See above for output.\n",
            "  \n",
            "  \u001b[1;35mnote\u001b[0m: This error originates from a subprocess, and is likely not a problem with pip.\n",
            "  Preparing metadata (setup.py) ... \u001b[?25l\u001b[?25herror\n",
            "\u001b[1;31merror\u001b[0m: \u001b[1mmetadata-generation-failed\u001b[0m\n",
            "\n",
            "\u001b[31m×\u001b[0m Encountered error while generating package metadata.\n",
            "\u001b[31m╰─>\u001b[0m See above for output.\n",
            "\n",
            "\u001b[1;35mnote\u001b[0m: This is an issue with the package mentioned above, not pip.\n",
            "\u001b[1;36mhint\u001b[0m: See above for details.\n"
          ]
        }
      ]
    },
    {
      "cell_type": "markdown",
      "source": [
        "Purpose:\n",
        "\n",
        "Imports necessary libraries (numpy, tensorflow, gym).\n",
        "\n",
        "Checks if running in Colab and mounts Google Drive for saving models.\n",
        "\n",
        "Installs gym[classic_control] for the CartPole environment."
      ],
      "metadata": {
        "id": "P0IlDim7vhfC"
      }
    },
    {
      "cell_type": "markdown",
      "source": [
        "# Step 2: Define the DQN Agent"
      ],
      "metadata": {
        "id": "hJ3akx4PvmFN"
      }
    },
    {
      "cell_type": "code",
      "source": [
        "class DQNAgent:\n",
        "    def __init__(self, state_size, action_size):\n",
        "        self.state_size = state_size\n",
        "        self.action_size = action_size\n",
        "        self.memory = deque(maxlen=2000)  # Replay memory\n",
        "        self.gamma = 0.95    # Discount factor\n",
        "        self.epsilon = 1.0    # Exploration rate\n",
        "        self.epsilon_min = 0.01\n",
        "        self.epsilon_decay = 0.995\n",
        "        self.learning_rate = 0.001\n",
        "        self.model = self._build_model()  # Main model\n",
        "        self.target_model = self._build_model()  # Target model\n",
        "        self.update_target_model()\n",
        "\n",
        "    def _build_model(self):\n",
        "        model = Sequential()\n",
        "        model.add(Dense(24, input_dim=self.state_size, activation='relu'))\n",
        "        model.add(Dense(24, activation='relu'))\n",
        "        model.add(Dense(self.action_size, activation='linear'))\n",
        "        model.compile(loss='mse', optimizer=Adam(learning_rate=self.learning_rate))\n",
        "        return model\n",
        "\n",
        "    def update_target_model(self):\n",
        "        self.target_model.set_weights(self.model.get_weights())\n",
        "\n",
        "    def remember(self, state, action, reward, next_state, done):\n",
        "        self.memory.append((state, action, reward, next_state, done))\n",
        "\n",
        "    def act(self, state):\n",
        "        if np.random.rand() <= self.epsilon:  # Exploration\n",
        "            return random.randrange(self.action_size)\n",
        "        act_values = self.model.predict(state, verbose=0)  # Exploitation\n",
        "        return np.argmax(act_values[0])\n",
        "\n",
        "    def replay(self, batch_size):\n",
        "        minibatch = random.sample(self.memory, batch_size)\n",
        "        states = np.array([t[0][0] for t in minibatch])\n",
        "        actions = np.array([t[1] for t in minibatch])\n",
        "        rewards = np.array([t[2] for t in minibatch])\n",
        "        next_states = np.array([t[3][0] for t in minibatch])\n",
        "        dones = np.array([t[4] for t in minibatch])\n",
        "\n",
        "        # Compute target Q-values\n",
        "        target_q = self.target_model.predict(next_states, verbose=0)\n",
        "        max_target_q = np.amax(target_q, axis=1)\n",
        "        current_q = self.model.predict(states, verbose=0)\n",
        "\n",
        "        for i in range(batch_size):\n",
        "            if dones[i]:\n",
        "                current_q[i][actions[i]] = rewards[i]\n",
        "            else:\n",
        "                current_q[i][actions[i]] = rewards[i] + self.gamma * max_target_q[i]\n",
        "\n",
        "        # Train the model\n",
        "        self.model.fit(states, current_q, epochs=1, verbose=0)\n",
        "\n",
        "        # Decay epsilon\n",
        "        if self.epsilon > self.epsilon_min:\n",
        "            self.epsilon *= self.epsilon_decay\n",
        "\n",
        "    def save(self, name):\n",
        "        self.model.save_weights(name)\n",
        "\n",
        "    def load(self, name):\n",
        "        self.model.load_weights(name)"
      ],
      "metadata": {
        "id": "piAKuG2OvtJi"
      },
      "execution_count": 3,
      "outputs": []
    },
    {
      "cell_type": "markdown",
      "source": [
        "Key Components:\n",
        "\n",
        "Replay Memory (deque) → Stores past experiences for training.\n",
        "\n",
        "Two Neural Networks → model (main) and target_model (for stable Q-learning).\n",
        "\n",
        "Epsilon-Greedy Policy → Balances exploration & exploitation.\n",
        "\n",
        "Experience Replay → Samples past experiences to train the model."
      ],
      "metadata": {
        "id": "_a0AIanTvx_8"
      }
    },
    {
      "cell_type": "markdown",
      "source": [
        "# Step 3: Initialize Environment & Agent"
      ],
      "metadata": {
        "id": "IB7bJXwjvy8O"
      }
    },
    {
      "cell_type": "code",
      "source": [
        "env = gym.make('CartPole-v1')  # CartPole environment\n",
        "state_size = env.observation_space.shape[0]  # 4 states (position, velocity, angle, angular velocity)\n",
        "action_size = env.action_space.n  # 2 actions (left or right)\n",
        "agent = DQNAgent(state_size, action_size)  # Initialize DQN agent"
      ],
      "metadata": {
        "colab": {
          "base_uri": "https://localhost:8080/"
        },
        "id": "ivOCPmpWv3DR",
        "outputId": "0625d147-4b4c-47c3-c412-ea58957615cf"
      },
      "execution_count": 4,
      "outputs": [
        {
          "output_type": "stream",
          "name": "stderr",
          "text": [
            "/usr/local/lib/python3.11/dist-packages/gym/core.py:317: DeprecationWarning: \u001b[33mWARN: Initializing wrapper in old step API which returns one bool instead of two. It is recommended to set `new_step_api=True` to use new step API. This will be the default behaviour in future.\u001b[0m\n",
            "  deprecation(\n",
            "/usr/local/lib/python3.11/dist-packages/gym/wrappers/step_api_compatibility.py:39: DeprecationWarning: \u001b[33mWARN: Initializing environment in old step API which returns one bool instead of two. It is recommended to set `new_step_api=True` to use new step API. This will be the default behaviour in future.\u001b[0m\n",
            "  deprecation(\n",
            "/usr/local/lib/python3.11/dist-packages/keras/src/layers/core/dense.py:87: UserWarning: Do not pass an `input_shape`/`input_dim` argument to a layer. When using Sequential models, prefer using an `Input(shape)` object as the first layer in the model instead.\n",
            "  super().__init__(activity_regularizer=activity_regularizer, **kwargs)\n"
          ]
        }
      ]
    },
    {
      "cell_type": "markdown",
      "source": [
        "CartPole Environment:\n",
        "\n",
        "State: [cart_position, cart_velocity, pole_angle, pole_angular_velocity]\n",
        "\n",
        "Action: 0 (push left) or 1 (push right)."
      ],
      "metadata": {
        "id": "mmjdMIXMv5qe"
      }
    },
    {
      "cell_type": "markdown",
      "source": [
        "# Step 4: Training Loop"
      ],
      "metadata": {
        "id": "Lk7WM61Qv-FA"
      }
    },
    {
      "cell_type": "code",
      "source": [
        "import numpy as np\n",
        "import tensorflow as tf\n",
        "from tensorflow.keras.models import Sequential\n",
        "from tensorflow.keras.layers import Dense\n",
        "from tensorflow.keras.optimizers import Adam\n",
        "import gym\n",
        "import random\n",
        "from collections import deque\n",
        "import matplotlib.pyplot as plt\n",
        "\n",
        "# ... (rest of the code) ...\n",
        "\n",
        "def preprocess_state(state):\n",
        "    \"\"\"Preprocesses the state for the neural network\"\"\"\n",
        "    # Check if state is already a NumPy array and has the correct shape\n",
        "    if isinstance(state, np.ndarray) and state.shape == (state_size,):\n",
        "        return np.reshape(state, [1, state_size])  # Reshape if necessary\n",
        "    # If state is not a NumPy array or has the wrong shape, try converting it\n",
        "    try:\n",
        "        state = np.array(state)\n",
        "        if state.shape == (state_size,):\n",
        "            return np.reshape(state, [1, state_size])  # Reshape if necessary\n",
        "        else:\n",
        "            # Handle cases where state has a different shape or is not convertible\n",
        "            print(\"Warning: State has unexpected shape:\", state.shape)\n",
        "            return np.reshape(state, [1, state.shape[0]])  # Try reshaping based on actual shape\n",
        "    except Exception as e:\n",
        "        # Handle cases where state cannot be converted to a NumPy array\n",
        "        print(\"Error: Could not convert state to NumPy array:\", e)\n",
        "        return np.reshape(np.array([state]), [1, 1])  # Reshape to (1, 1) as a fallback\n",
        "\n",
        "# ... (rest of the code) ..."
      ],
      "metadata": {
        "id": "9dcAd5BpwOkV"
      },
      "execution_count": 6,
      "outputs": []
    },
    {
      "cell_type": "markdown",
      "source": [
        "Training Process:\n",
        "\n",
        "Interact with Environment → Agent takes actions (act()).\n",
        "\n",
        "Store Experiences → Saves (state, action, reward, next_state, done) in memory.\n",
        "\n",
        "Train via Replay → Samples past experiences (replay()).\n",
        "\n",
        "Update Target Model → Syncs target_model periodically."
      ],
      "metadata": {
        "id": "Fq444-sgwYKg"
      }
    },
    {
      "cell_type": "markdown",
      "source": [
        "# Step 5: Plot Results & Save Model"
      ],
      "metadata": {
        "id": "mFIA9mY7wblr"
      }
    },
    {
      "cell_type": "code",
      "source": [
        "# Plot training progress\n",
        "plt.figure(figsize=(12, 5))\n",
        "plt.subplot(1, 2, 1)\n",
        "plt.plot(scores)\n",
        "plt.title('Score per Episode')\n",
        "plt.xlabel('Episode')\n",
        "plt.ylabel('Score')\n",
        "\n",
        "plt.subplot(1, 2, 2)\n",
        "plt.plot(epsilons)\n",
        "plt.title('Epsilon Decay')\n",
        "plt.xlabel('Episode')\n",
        "plt.ylabel('Epsilon')\n",
        "\n",
        "plt.tight_layout()\n",
        "plt.show()\n",
        "\n",
        "# Save model\n",
        "# Save model\n",
        "if IN_COLAB:\n",
        "    agent.save('/content/drive/MyDrive/cartpole_dqn.weights.h5') # Added .weights to the filename\n",
        "else:\n",
        "    agent.save('cartpole_dqn.weights.h5') # Added .weights to the filename"
      ],
      "metadata": {
        "colab": {
          "base_uri": "https://localhost:8080/",
          "height": 401
        },
        "id": "mX2ByoOswfyQ",
        "outputId": "15a03aa0-bbb2-49ab-d995-2528c93a196d"
      },
      "execution_count": 8,
      "outputs": [
        {
          "output_type": "display_data",
          "data": {
            "text/plain": [
              "<Figure size 1200x500 with 2 Axes>"
            ],
            "image/png": "[encoded data removed]"
          },
          "metadata": {}
        }
      ]
    },
    {
      "cell_type": "markdown",
      "source": [
        "Output:\n",
        "\n",
        "Score Plot → Shows learning progress.\n",
        "\n",
        "Epsilon Decay Plot → Shows exploration rate decreasing over time.\n",
        "\n",
        "Model Saved → Weights stored in Google Drive (Colab) or locally."
      ],
      "metadata": {
        "id": "j2y9U0g2w6RW"
      }
    },
    {
      "cell_type": "markdown",
      "source": [
        "# Step 6: Test the Trained Agent"
      ],
      "metadata": {
        "id": "P4LBspYOw_dZ"
      }
    },
    {
      "cell_type": "code",
      "source": [
        "state = preprocess_state(env.reset()[0])\n",
        "done = False\n",
        "score = 0\n",
        "\n",
        "while not done:\n",
        "    env.render()  # Visualize\n",
        "    action = agent.act(state)\n",
        "    next_state, reward, done, _, _ = env.step(action)\n",
        "    state = preprocess_state(next_state)\n",
        "    score += reward\n",
        "    if done:\n",
        "        print(f\"Test Score: {score}\")\n",
        "        break\n",
        "\n",
        "env.close()"
      ],
      "metadata": {
        "id": "GAjydl5UxCHE"
      },
      "execution_count": null,
      "outputs": []
    },
    {
      "cell_type": "markdown",
      "source": [
        "Expected Result:\n",
        "\n",
        "The agent should balance the pole for 200+ steps (max score in CartPole)."
      ],
      "metadata": {
        "id": "jm5EQpkHxLej"
      }
    },
    {
      "cell_type": "markdown",
      "source": [
        "Set up Colab → Install dependencies.\n",
        "\n",
        "Define DQN Agent → Neural networks, replay memory, epsilon-greedy policy.\n",
        "\n",
        "Initialize Environment → CartPole-v1.\n",
        "\n",
        "Train Agent → Interact, store experiences, replay training.\n",
        "\n",
        "Plot & Save → Visualize performance, save model.\n",
        "\n",
        "Test Agent → Run trained model.\n",
        "\n",
        "This implementation includes Double DQN (separate target network) and Experience Replay for stable learning. 🚀"
      ],
      "metadata": {
        "id": "J39S6gXOxSgh"
      }
    }
  ]
}