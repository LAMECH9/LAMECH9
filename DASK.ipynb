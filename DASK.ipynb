{
  "nbformat": 4,
  "nbformat_minor": 0,
  "metadata": {
    "colab": {
      "provenance": [],
      "gpuType": "T4",
      "authorship_tag": "ABX9TyPgBSGgsPvcqUWk6HiNY5RF",
      "include_colab_link": true
    },
    "kernelspec": {
      "name": "python3",
      "display_name": "Python 3"
    },
    "language_info": {
      "name": "python"
    },
    "accelerator": "GPU"
  },
  "cells": [
    {
      "cell_type": "markdown",
      "metadata": {
        "id": "view-in-github",
        "colab_type": "text"
      },
      "source": [
        "<a href=\"https://colab.research.google.com/github/LAMECH9/LAMECH9/blob/main/DASK.ipynb\" target=\"_parent\"><img src=\"https://colab.research.google.com/assets/colab-badge.svg\" alt=\"Open In Colab\"/></a>"
      ]
    },
    {
      "cell_type": "code",
      "execution_count": null,
      "metadata": {
        "colab": {
          "base_uri": "https://localhost:8080/"
        },
        "id": "iUS5BIA7atqy",
        "outputId": "be883da9-8c05-40cf-bd7c-7b9c7e54c8af"
      },
      "outputs": [
        {
          "output_type": "stream",
          "name": "stdout",
          "text": [
            "\u001b[?25l   \u001b[90m━━━━━━━━━━━━━━━━━━━━━━━━━━━━━━━━━━━━━━━━\u001b[0m \u001b[32m0.0/149.8 kB\u001b[0m \u001b[31m?\u001b[0m eta \u001b[36m-:--:--\u001b[0m\r\u001b[2K   \u001b[90m━━━━━━━━━━━━━━━━━━━━━━━━━━━━━━━━━━━━━━━━\u001b[0m \u001b[32m149.8/149.8 kB\u001b[0m \u001b[31m11.5 MB/s\u001b[0m eta \u001b[36m0:00:00\u001b[0m\n",
            "\u001b[?25h\u001b[?25l   \u001b[90m━━━━━━━━━━━━━━━━━━━━━━━━━━━━━━━━━━━━━━━━\u001b[0m \u001b[32m0.0/1.3 MB\u001b[0m \u001b[31m?\u001b[0m eta \u001b[36m-:--:--\u001b[0m\r\u001b[2K   \u001b[90m━━━━━━━━━━━━━━━━━━━━━━━━━━━━━━━━━━━━━━━━\u001b[0m \u001b[32m1.3/1.3 MB\u001b[0m \u001b[31m63.6 MB/s\u001b[0m eta \u001b[36m0:00:00\u001b[0m\n",
            "\u001b[?25h\u001b[?25l   \u001b[90m━━━━━━━━━━━━━━━━━━━━━━━━━━━━━━━━━━━━━━━━\u001b[0m \u001b[32m0.0/117.4 kB\u001b[0m \u001b[31m?\u001b[0m eta \u001b[36m-:--:--\u001b[0m\r\u001b[2K   \u001b[90m━━━━━━━━━━━━━━━━━━━━━━━━━━━━━━━━━━━━━━━━\u001b[0m \u001b[32m117.4/117.4 kB\u001b[0m \u001b[31m10.4 MB/s\u001b[0m eta \u001b[36m0:00:00\u001b[0m\n",
            "\u001b[?25h"
          ]
        }
      ],
      "source": [
        "!pip install dask[complete] dask-ml --quiet"
      ]
    },
    {
      "cell_type": "code",
      "source": [
        "import dask.dataframe as dd\n",
        "import dask.array as da\n",
        "from dask.distributed import Client\n",
        "\n",
        "# Initialize Dask Client (Single Machine Mode)\n",
        "client = Client()\n",
        "print(client)"
      ],
      "metadata": {
        "colab": {
          "base_uri": "https://localhost:8080/"
        },
        "id": "2c8tgGZNcNMX",
        "outputId": "e713b889-3997-4c89-abdd-a0986f593150"
      },
      "execution_count": null,
      "outputs": [
        {
          "output_type": "stream",
          "name": "stderr",
          "text": [
            "INFO:distributed.http.proxy:To route to workers diagnostics web server please install jupyter-server-proxy: python -m pip install jupyter-server-proxy\n",
            "INFO:distributed.scheduler:State start\n",
            "INFO:distributed.scheduler:  Scheduler at:     tcp://127.0.0.1:37375\n",
            "INFO:distributed.scheduler:  dashboard at:  http://127.0.0.1:8787/status\n",
            "INFO:distributed.scheduler:Registering Worker plugin shuffle\n",
            "INFO:distributed.nanny:        Start Nanny at: 'tcp://127.0.0.1:39699'\n",
            "INFO:distributed.nanny:        Start Nanny at: 'tcp://127.0.0.1:34823'\n",
            "INFO:distributed.scheduler:Register worker addr: tcp://127.0.0.1:43993 name: 1\n",
            "INFO:distributed.scheduler:Starting worker compute stream, tcp://127.0.0.1:43993\n",
            "INFO:distributed.core:Starting established connection to tcp://127.0.0.1:42682\n",
            "INFO:distributed.scheduler:Register worker addr: tcp://127.0.0.1:43495 name: 0\n",
            "INFO:distributed.scheduler:Starting worker compute stream, tcp://127.0.0.1:43495\n",
            "INFO:distributed.core:Starting established connection to tcp://127.0.0.1:42694\n",
            "INFO:distributed.scheduler:Receive client connection: Client-690c5ec4-0ae4-11f0-8309-0242ac1c000c\n",
            "INFO:distributed.core:Starting established connection to tcp://127.0.0.1:42700\n"
          ]
        },
        {
          "output_type": "stream",
          "name": "stdout",
          "text": [
            "<Client: 'tcp://127.0.0.1:37375' processes=2 threads=2, memory=12.67 GiB>\n"
          ]
        }
      ]
    },
    {
      "cell_type": "code",
      "source": [
        "import pandas as pd\n",
        "import numpy as np\n",
        "\n",
        "# Create large pandas Daraframe (Simulating Big Data)\n",
        "n_rows = 1_000_000 # 1 million rows\n",
        "df = pd.DataFrame({\n",
        "    \"id\": np.arange(n_rows),\n",
        "    \"value\": np.random.randint(1, 100, n_rows),\n",
        "    \"category\": np.random.choice([\"A\", \"B\", \"C\"], n_rows)\n",
        "})\n",
        "\n",
        "# Convert Pandas Dataframe to Dask DataFrame\n",
        "ddf = dd.from_pandas(df, npartitions=10) #Split into 10 partitions"
      ],
      "metadata": {
        "id": "US78spOYc3Zw"
      },
      "execution_count": null,
      "outputs": []
    },
    {
      "cell_type": "code",
      "source": [
        "# Display the first few rows (lazy execution)\n",
        "print(ddf.head())\n",
        "\n",
        "# Get data types (metadata only, doesn't load full data)\n",
        "print(ddf.dtypes)"
      ],
      "metadata": {
        "colab": {
          "base_uri": "https://localhost:8080/"
        },
        "id": "qpE5W8gDg7Rn",
        "outputId": "ff73e449-d41e-4d64-d8fd-fde8da2bf28d"
      },
      "execution_count": null,
      "outputs": [
        {
          "output_type": "stream",
          "name": "stdout",
          "text": [
            "   id  value category\n",
            "0   0     45        B\n",
            "1   1     32        B\n",
            "2   2     81        B\n",
            "3   3     49        A\n",
            "4   4     67        C\n",
            "id                    int64\n",
            "value                 int64\n",
            "category    string[pyarrow]\n",
            "dtype: object\n"
          ]
        }
      ]
    },
    {
      "cell_type": "code",
      "source": [
        "# Display the first few rows (lazy execution)\n",
        "print(ddf.head())\n",
        "\n",
        "# Get data types (metadata only, doesn't load full data)\n",
        "print(ddf.dtypes)\n",
        "\n",
        "# Perform filtering (lazy execution)\n",
        "filtered_ddf = ddf[ddf[\"value\"] > 50]\n",
        "\n",
        "# Perform aggregations (Lazy Execution)\n",
        "grouped_ddf = ddf.groupby(\"category\")[\"value\"].mean()\n",
        "\n",
        "# Compute results (Trigger execution)\n",
        "print(filtered_ddf.compute().head()) # Convert to pandafor viewing\n",
        "print(grouped_ddf.compute()) # Perform actual aggregation"
      ],
      "metadata": {
        "colab": {
          "base_uri": "https://localhost:8080/"
        },
        "id": "GpS0mKjvhdBm",
        "outputId": "853b422f-43c4-43c8-9aee-75fbc0ee7bdc"
      },
      "execution_count": null,
      "outputs": [
        {
          "output_type": "stream",
          "name": "stdout",
          "text": [
            "   id  value category\n",
            "0   0     45        B\n",
            "1   1     32        B\n",
            "2   2     81        B\n",
            "3   3     49        A\n",
            "4   4     67        C\n",
            "id                    int64\n",
            "value                 int64\n",
            "category    string[pyarrow]\n",
            "dtype: object\n"
          ]
        },
        {
          "output_type": "stream",
          "name": "stderr",
          "text": [
            "/usr/local/lib/python3.11/dist-packages/distributed/client.py:3371: UserWarning: Sending large graph of size 23.85 MiB.\n",
            "This may cause some slowdown.\n",
            "Consider loading the data with Dask directly\n",
            " or using futures or delayed objects to embed the data into the graph without repetition.\n",
            "See also https://docs.dask.org/en/stable/best-practices.html#load-data-with-dask for more information.\n",
            "  warnings.warn(\n"
          ]
        },
        {
          "output_type": "stream",
          "name": "stdout",
          "text": [
            "   id  value category\n",
            "2   2     81        B\n",
            "4   4     67        C\n",
            "5   5     88        C\n",
            "6   6     75        A\n",
            "7   7     60        B\n"
          ]
        },
        {
          "output_type": "stream",
          "name": "stderr",
          "text": [
            "/usr/local/lib/python3.11/dist-packages/distributed/client.py:3371: UserWarning: Sending large graph of size 16.22 MiB.\n",
            "This may cause some slowdown.\n",
            "Consider loading the data with Dask directly\n",
            " or using futures or delayed objects to embed the data into the graph without repetition.\n",
            "See also https://docs.dask.org/en/stable/best-practices.html#load-data-with-dask for more information.\n",
            "  warnings.warn(\n"
          ]
        },
        {
          "output_type": "stream",
          "name": "stdout",
          "text": [
            "category\n",
            "A    50.067604\n",
            "B    50.059258\n",
            "C    49.968047\n",
            "Name: value, dtype: float64\n"
          ]
        }
      ]
    },
    {
      "cell_type": "code",
      "source": [
        "# Create a large Dask Array (10 million elements, chunked)\n",
        "arr = da.random.random(size=(10_000_000,), chunks=(1_000_000,))\n",
        "\n",
        "# Compute mean and sum (Lazy untill '.compute()' is called)\n",
        "mean_value = arr.mean().compute()\n",
        "sum_value = arr.sum().compute()\n",
        "\n",
        "print(\"Mean:\", mean_value)\n",
        "print(\"Sum:\", sum_value)"
      ],
      "metadata": {
        "colab": {
          "base_uri": "https://localhost:8080/"
        },
        "id": "h_ABXyTQjJP3",
        "outputId": "1e3c2a2d-c992-4e67-84d1-0d0cef29040f"
      },
      "execution_count": null,
      "outputs": [
        {
          "output_type": "stream",
          "name": "stdout",
          "text": [
            "Mean: 0.4998463447036092\n",
            "Sum: 4998463.447036092\n"
          ]
        }
      ]
    },
    {
      "cell_type": "code",
      "source": [
        "from dask_ml.linear_model import LinearRegression\n",
        "\n",
        "# Create a synthetic dataset\n",
        "x = da.random.random((10_000, 2), chunks=(1_000, 2))\n",
        "y = da.random.random(10_000, chunks=(1_000,))\n",
        "\n",
        "# Train a scalable Linear Regression Model\n",
        "model = LinearRegression()\n",
        "model.fit(x, y)\n",
        "\n",
        "# Predict values\n",
        "predictions = model.predict(x)\n",
        "print(predictions.compute()[:5])"
      ],
      "metadata": {
        "colab": {
          "base_uri": "https://localhost:8080/"
        },
        "id": "1P5PT7nWkhR9",
        "outputId": "3f2baf66-10b9-4bf5-a8c2-464caed3671f"
      },
      "execution_count": null,
      "outputs": [
        {
          "output_type": "stream",
          "name": "stdout",
          "text": [
            "[0.49603736 0.49843026 0.49851472 0.49651717 0.4987909 ]\n"
          ]
        }
      ]
    },
    {
      "cell_type": "code",
      "source": [
        "client.close()"
      ],
      "metadata": {
        "colab": {
          "base_uri": "https://localhost:8080/"
        },
        "id": "2T6nIOAUmXU1",
        "outputId": "d0837a09-36d5-4578-9405-30159af1091a"
      },
      "execution_count": null,
      "outputs": [
        {
          "output_type": "stream",
          "name": "stderr",
          "text": [
            "INFO:distributed.scheduler:Remove client Client-4e6c8ee1-0ae1-11f0-856a-0242ac1c000c\n",
            "INFO:distributed.core:Received 'close-stream' from tcp://127.0.0.1:57896; closing.\n",
            "INFO:distributed.scheduler:Remove client Client-4e6c8ee1-0ae1-11f0-856a-0242ac1c000c\n",
            "INFO:distributed.scheduler:Close client connection: Client-4e6c8ee1-0ae1-11f0-856a-0242ac1c000c\n",
            "INFO:distributed.scheduler:Retire worker addresses (stimulus_id='retire-workers-1743062369.1581407') (0, 1)\n",
            "INFO:distributed.nanny:Closing Nanny at 'tcp://127.0.0.1:42475'. Reason: nanny-close\n",
            "INFO:distributed.nanny:Nanny asking worker to close. Reason: nanny-close\n",
            "INFO:distributed.nanny:Closing Nanny at 'tcp://127.0.0.1:38595'. Reason: nanny-close\n",
            "INFO:distributed.nanny:Nanny asking worker to close. Reason: nanny-close\n",
            "INFO:distributed.core:Received 'close-stream' from tcp://127.0.0.1:57878; closing.\n",
            "INFO:distributed.scheduler:Remove worker addr: tcp://127.0.0.1:35165 name: 0 (stimulus_id='handle-worker-cleanup-1743062369.1683624')\n",
            "INFO:distributed.core:Received 'close-stream' from tcp://127.0.0.1:57882; closing.\n",
            "INFO:distributed.scheduler:Remove worker addr: tcp://127.0.0.1:39957 name: 1 (stimulus_id='handle-worker-cleanup-1743062369.1871483')\n",
            "INFO:distributed.scheduler:Lost all workers\n",
            "INFO:distributed.nanny:Nanny at 'tcp://127.0.0.1:38595' closed.\n",
            "INFO:distributed.nanny:Nanny at 'tcp://127.0.0.1:42475' closed.\n",
            "INFO:distributed.scheduler:Closing scheduler. Reason: unknown\n",
            "INFO:distributed.scheduler:Scheduler closing all comms\n"
          ]
        }
      ]
    }
  ]
}