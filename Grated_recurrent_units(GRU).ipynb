{
  "nbformat": 4,
  "nbformat_minor": 0,
  "metadata": {
    "colab": {
      "provenance": [],
      "include_colab_link": true
    },
    "kernelspec": {
      "name": "python3",
      "display_name": "Python 3"
    },
    "language_info": {
      "name": "python"
    }
  },
  "cells": [
    {
      "cell_type": "markdown",
      "metadata": {
        "id": "view-in-github",
        "colab_type": "text"
      },
      "source": [
        "<a href=\"https://colab.research.google.com/github/LAMECH9/LAMECH9/blob/main/Grated_recurrent_units(GRU).ipynb\" target=\"_parent\"><img src=\"https://colab.research.google.com/assets/colab-badge.svg\" alt=\"Open In Colab\"/></a>"
      ]
    },
    {
      "cell_type": "markdown",
      "source": [
        "# **IMPORTING THE NECESSARY LIBRARIES**"
      ],
      "metadata": {
        "id": "Awdyee7Z0gPj"
      }
    },
    {
      "cell_type": "code",
      "source": [
        "import numpy as np\n",
        "from tensorflow import keras\n",
        "from tensorflow.keras import layers"
      ],
      "metadata": {
        "id": "Im55Uyxc0pLx"
      },
      "execution_count": null,
      "outputs": []
    },
    {
      "cell_type": "markdown",
      "source": [
        "# **LOAD THE DATASET**"
      ],
      "metadata": {
        "id": "BHh7FqR4FA4S"
      }
    },
    {
      "cell_type": "code",
      "source": [
        "# Load the IMDB dataset\n",
        "max_features = 10000  # Number of words to consider as features\n",
        "max_len = 200  # Trim reviews after this number of words\n",
        "\n",
        "(x_train, y_train), (x_test, y_test) = keras.datasets.imdb.load_data(num_words=max_features)"
      ],
      "metadata": {
        "id": "9dROgh5y1Xg4"
      },
      "execution_count": null,
      "outputs": []
    },
    {
      "cell_type": "markdown",
      "source": [
        " loads the IMDB dataset using keras.datasets.imdb.load_data(num_words=max_features), but common issues include module import errors, shape mismatches, and memory constraints. The dataset consists of tokenized movie reviews, so sequences must be padded using pad_sequences(x_train, maxlen=max_len) to ensure uniform input size for training. If you face memory errors, reducing num_words (e.g., from 10000 to 5000) can help. The corrected approach ensures proper data preprocessing for feeding into an NLP model. 🚀"
      ],
      "metadata": {
        "id": "LFhXKUDHEH4h"
      }
    },
    {
      "cell_type": "code",
      "source": [
        "# Pad Sequence to a fixed length\n",
        "x_train = keras.preprocessing.sequence.pad_sequences(x_train, maxlen=max_len)\n",
        "x_test = keras.preprocessing.sequence.pad_sequences(x_test, maxlen=max_len)"
      ],
      "metadata": {
        "id": "Q4DXFW2j6x5a"
      },
      "execution_count": null,
      "outputs": []
    },
    {
      "cell_type": "markdown",
      "source": [
        " Pads IMDB dataset sequences to a fixed length before training, ensuring all reviews have uniform input size. However, if you get an AttributeError, import pad_sequences from tensorflow.keras.preprocessing.sequence. If you face a shape mismatch error, check that x_train and y_train have the same number of samples, and convert y_train to a NumPy array (np.array(y_train)) to avoid type issues. This preprocessing step ensures compatibility with deep learning models."
      ],
      "metadata": {
        "id": "D49IVkQuEdzm"
      }
    },
    {
      "cell_type": "markdown",
      "source": [
        "# **BUILD THE MODEL**"
      ],
      "metadata": {
        "id": "O_MyLCQgFUSS"
      }
    },
    {
      "cell_type": "code",
      "source": [
        "# Build the GRU model\n",
        "model = keras.Sequential([\n",
        "    layers.Embedding(max_features, 128),\n",
        "    layers.GRU(128, dropout=0.2, recurrent_dropout=0.2),\n",
        "    layers.Dense(1, activation='sigmoid')\n",
        "])\n",
        "\n"
      ],
      "metadata": {
        "id": "x_B-gjlR2ak0"
      },
      "execution_count": null,
      "outputs": []
    },
    {
      "cell_type": "markdown",
      "source": [
        "Your GRU model is correctly structured for binary classification, but ensure you import layers (from tensorflow.keras import layers) to avoid a NameError. If you face shape mismatches, confirm that max_len in pad_sequences matches the model’s expected input. Also, recurrent_dropout may not work efficiently on GPUs, so consider removing it or using CuDNNGRU for better performance. Lastly, compile the model using binary_crossentropy loss and adam optimizer for optimal training."
      ],
      "metadata": {
        "id": "l7yvOr-AE4sG"
      }
    },
    {
      "cell_type": "code",
      "source": [
        "# Compile the model\n",
        "model.compile(loss='binary_crossentropy', optimizer='adam', metrics=['accuracy'])"
      ],
      "metadata": {
        "id": "W_E4z-YZ3PuV"
      },
      "execution_count": null,
      "outputs": []
    },
    {
      "cell_type": "markdown",
      "source": [
        "# TRAIN THE MODEL"
      ],
      "metadata": {
        "id": "YIJHlneEFr85"
      }
    },
    {
      "cell_type": "code",
      "source": [
        "# Train the model\n",
        "batch_size = 32\n",
        "epochs = 5\n",
        "\n",
        "model.fit(x_train, y_train,\n",
        "          batch_size=batch_size,\n",
        "          epochs=epochs,\n",
        "          validation_data=(x_test, y_test))"
      ],
      "metadata": {
        "colab": {
          "base_uri": "https://localhost:8080/"
        },
        "id": "EQI0-s8_3ZGr",
        "outputId": "9be77c65-6aa4-4fc5-e243-63c5898e606a"
      },
      "execution_count": null,
      "outputs": [
        {
          "output_type": "stream",
          "name": "stdout",
          "text": [
            "Epoch 1/5\n",
            "\u001b[1m782/782\u001b[0m \u001b[32m━━━━━━━━━━━━━━━━━━━━\u001b[0m\u001b[37m\u001b[0m \u001b[1m430s\u001b[0m 543ms/step - accuracy: 0.6674 - loss: 0.5808 - val_accuracy: 0.8516 - val_loss: 0.3534\n",
            "Epoch 2/5\n",
            "\u001b[1m782/782\u001b[0m \u001b[32m━━━━━━━━━━━━━━━━━━━━\u001b[0m\u001b[37m\u001b[0m \u001b[1m437s\u001b[0m 537ms/step - accuracy: 0.8724 - loss: 0.3158 - val_accuracy: 0.8804 - val_loss: 0.2879\n",
            "Epoch 3/5\n",
            "\u001b[1m782/782\u001b[0m \u001b[32m━━━━━━━━━━━━━━━━━━━━\u001b[0m\u001b[37m\u001b[0m \u001b[1m420s\u001b[0m 537ms/step - accuracy: 0.9288 - loss: 0.1897 - val_accuracy: 0.8825 - val_loss: 0.2894\n",
            "Epoch 4/5\n",
            "\u001b[1m782/782\u001b[0m \u001b[32m━━━━━━━━━━━━━━━━━━━━\u001b[0m\u001b[37m\u001b[0m \u001b[1m441s\u001b[0m 536ms/step - accuracy: 0.9635 - loss: 0.1041 - val_accuracy: 0.8756 - val_loss: 0.3594\n",
            "Epoch 5/5\n",
            "\u001b[1m782/782\u001b[0m \u001b[32m━━━━━━━━━━━━━━━━━━━━\u001b[0m\u001b[37m\u001b[0m \u001b[1m420s\u001b[0m 538ms/step - accuracy: 0.9784 - loss: 0.0644 - val_accuracy: 0.8630 - val_loss: 0.4430\n"
          ]
        },
        {
          "output_type": "execute_result",
          "data": {
            "text/plain": [
              "<keras.src.callbacks.history.History at 0x7df204a8f990>"
            ]
          },
          "metadata": {},
          "execution_count": 26
        }
      ]
    },
    {
      "cell_type": "markdown",
      "source": [
        "Your training code is mostly correct, but ensure that the input data (x_train and x_test) is properly padded to the correct shape and that y_train and y_test are NumPy arrays. If you encounter a shape mismatch or data type error, check that x_train and x_test have the same number of samples and match the expected input dimensions of the model. Also, ensure that validation_data is correctly formatted as (x_test, y_test). Once the data is correctly preprocessed and the model is compiled, the training will proceed without issues."
      ],
      "metadata": {
        "id": "TqVlPV9VG5Gv"
      }
    },
    {
      "cell_type": "code",
      "source": [
        "# Evaluate the model\n",
        "loss, accuracy = model.evaluate(x_test, y_test, batch_size=batch_size)\n",
        "print(f'Test loss: {loss:.4f}')\n",
        "print(f'Test accuracy: {accuracy:.4f}')"
      ],
      "metadata": {
        "colab": {
          "base_uri": "https://localhost:8080/"
        },
        "id": "D3B82lvo32jN",
        "outputId": "45f52bd3-bca6-4013-9600-b11f1aec75a2"
      },
      "execution_count": null,
      "outputs": [
        {
          "output_type": "stream",
          "name": "stdout",
          "text": [
            "\u001b[1m782/782\u001b[0m \u001b[32m━━━━━━━━━━━━━━━━━━━━\u001b[0m\u001b[37m\u001b[0m \u001b[1m47s\u001b[0m 60ms/step - accuracy: 0.8622 - loss: 0.4588\n",
            "Test loss: 0.4430\n",
            "Test accuracy: 0.8630\n"
          ]
        }
      ]
    }
  ]
}