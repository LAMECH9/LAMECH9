{
  "nbformat": 4,
  "nbformat_minor": 0,
  "metadata": {
    "colab": {
      "provenance": [],
      "authorship_tag": "ABX9TyPMvMg1vg19KBMe18lBfi83",
      "include_colab_link": true
    },
    "kernelspec": {
      "name": "python3",
      "display_name": "Python 3"
    },
    "language_info": {
      "name": "python"
    }
  },
  "cells": [
    {
      "cell_type": "markdown",
      "metadata": {
        "id": "view-in-github",
        "colab_type": "text"
      },
      "source": [
        "<a href=\"https://colab.research.google.com/github/LAMECH9/LAMECH9/blob/main/Recap.ipynb\" target=\"_parent\"><img src=\"https://colab.research.google.com/assets/colab-badge.svg\" alt=\"Open In Colab\"/></a>"
      ]
    },
    {
      "cell_type": "code",
      "execution_count": null,
      "metadata": {
        "id": "cXn2V0jnCHW9"
      },
      "outputs": [],
      "source": [
        "import pandas as pd # Importing pandas for data manipulation\n",
        "import numpy as np # Importing numpy for numerical computations\n",
        "from sklearn.preprocessing import StandardScaler, MinMaxScaler, LabelEncoder, OneHotEncoder\n",
        "from sklearn.model_selection import train_test_split"
      ]
    },
    {
      "cell_type": "code",
      "source": [
        "# Step 1 Load Dataset (CSV file will be created separately)\n",
        "df = pd.read_csv('/content/data.csv') # Reading dataset into a pandas DataFrame\n",
        "print(\"Original Data:\")\n",
        "print(df.head()) # Display the first 5 rows of the dataset"
      ],
      "metadata": {
        "colab": {
          "base_uri": "https://localhost:8080/"
        },
        "id": "wjb4PidsF4ZD",
        "outputId": "e555065d-462f-46c5-9123-6d692cc60b46"
      },
      "execution_count": null,
      "outputs": [
        {
          "output_type": "stream",
          "name": "stdout",
          "text": [
            "Original Data:\n",
            "   feature_1  feature_2 category_column  missing_values  duplicate_column\n",
            "0   4.967142  42.923146               B             NaN                 2\n",
            "1  -1.382643  47.896773               B            86.0                 1\n",
            "2   6.476885  48.286427               A            57.0                 5\n",
            "3  15.230299  45.988614               A            29.0                 4\n",
            "4  -2.341534  49.193571               A            78.0                 1\n"
          ]
        }
      ]
    },
    {
      "cell_type": "code",
      "source": [
        "print(df.tail())# enable view the last five rows of the data set"
      ],
      "metadata": {
        "colab": {
          "base_uri": "https://localhost:8080/"
        },
        "id": "WUf_gu4ZLSiD",
        "outputId": "c344a89c-1579-4a3b-b985-cf8384db7fcc"
      },
      "execution_count": null,
      "outputs": [
        {
          "output_type": "stream",
          "name": "stdout",
          "text": [
            "     feature_1  feature_2 category_column  missing_values  duplicate_column\n",
            "100   4.967142  42.923146               B             NaN                 2\n",
            "101  -1.382643  47.896773               B            86.0                 1\n",
            "102   6.476885  48.286427               A            57.0                 5\n",
            "103  15.230299  45.988614               A            29.0                 4\n",
            "104  -2.341534  49.193571               A            78.0                 1\n"
          ]
        }
      ]
    },
    {
      "cell_type": "code",
      "source": [
        "print(df.tail(15))# enables you view the last 15 rows of the data set"
      ],
      "metadata": {
        "colab": {
          "base_uri": "https://localhost:8080/"
        },
        "id": "L7HFqsHTLsWG",
        "outputId": "144b5bda-52b8-4402-ba48-285760a5a135"
      },
      "execution_count": null,
      "outputs": [
        {
          "output_type": "stream",
          "name": "stdout",
          "text": [
            "     feature_1  feature_2 category_column  missing_values  duplicate_column\n",
            "90    0.970775  47.767425               C             NaN                 4\n",
            "91    9.686450  54.281994               C            36.0                 4\n",
            "92   -7.020531  51.070469               A            10.0                 5\n",
            "93   -3.276621  43.771306               B            73.0                 1\n",
            "94   -3.921082  50.865905               A            24.0                 1\n",
            "95  -14.635149  51.926587               C            64.0                 3\n",
            "96    2.961203  45.580713               C            99.0                 5\n",
            "97    2.610553  50.768626               B            49.0                 4\n",
            "98    0.051135  50.291044               C            99.0                 1\n",
            "99   -2.345871  44.285149               A            36.0                 4\n",
            "100   4.967142  42.923146               B             NaN                 2\n",
            "101  -1.382643  47.896773               B            86.0                 1\n",
            "102   6.476885  48.286427               A            57.0                 5\n",
            "103  15.230299  45.988614               A            29.0                 4\n",
            "104  -2.341534  49.193571               A            78.0                 1\n"
          ]
        }
      ]
    },
    {
      "cell_type": "code",
      "source": [
        "print(df.head(15))# enable you view the first 15 rows of the data set"
      ],
      "metadata": {
        "colab": {
          "base_uri": "https://localhost:8080/"
        },
        "id": "L5iYpe76L-8N",
        "outputId": "84f45109-6f38-45b7-d87d-7ff22c41e101"
      },
      "execution_count": null,
      "outputs": [
        {
          "output_type": "stream",
          "name": "stdout",
          "text": [
            "    feature_1  feature_2 category_column  missing_values  duplicate_column\n",
            "0    4.967142  42.923146               B             NaN                 2\n",
            "1   -1.382643  47.896773               B            86.0                 1\n",
            "2    6.476885  48.286427               A            57.0                 5\n",
            "3   15.230299  45.988614               A            29.0                 4\n",
            "4   -2.341534  49.193571               A            78.0                 1\n",
            "5   -2.341370  52.020254               C            92.0                 5\n",
            "6   15.792128  59.430930               B            69.0                 1\n",
            "7    7.674347  50.872889               C            47.0                 3\n",
            "8   -4.694744  51.287752               A            94.0                 1\n",
            "9    5.425600  49.627770               B            62.0                 1\n",
            "10  -4.634177  40.406144               C             NaN                 1\n",
            "11  -4.657298  49.867431               B            69.0                 4\n",
            "12   2.419623  50.301151               C            76.0                 1\n",
            "13 -19.132802  62.316211               B            16.0                 5\n",
            "14 -17.249178  49.038195               A            90.0                 3\n"
          ]
        }
      ]
    },
    {
      "cell_type": "code",
      "source": [
        "print(df.head(30)) #enables you view the first 30 rows of the dataset"
      ],
      "metadata": {
        "colab": {
          "base_uri": "https://localhost:8080/"
        },
        "id": "xIysZ0BDNm4V",
        "outputId": "2eb1ae83-5dd9-4864-c761-d65325cc6fba"
      },
      "execution_count": null,
      "outputs": [
        {
          "output_type": "stream",
          "name": "stdout",
          "text": [
            "    feature_1  feature_2 category_column  missing_values  duplicate_column\n",
            "0    4.967142  42.923146               B             NaN                 2\n",
            "1   -1.382643  47.896773               B            86.0                 1\n",
            "2    6.476885  48.286427               A            57.0                 5\n",
            "3   15.230299  45.988614               A            29.0                 4\n",
            "4   -2.341534  49.193571               A            78.0                 1\n",
            "5   -2.341370  52.020254               C            92.0                 5\n",
            "6   15.792128  59.430930               B            69.0                 1\n",
            "7    7.674347  50.872889               C            47.0                 3\n",
            "8   -4.694744  51.287752               A            94.0                 1\n",
            "9    5.425600  49.627770               B            62.0                 1\n",
            "10  -4.634177  40.406144               C             NaN                 1\n",
            "11  -4.657298  49.867431               B            69.0                 4\n",
            "12   2.419623  50.301151               C            76.0                 1\n",
            "13 -19.132802  62.316211               B            16.0                 5\n",
            "14 -17.249178  49.038195               A            90.0                 3\n",
            "15  -5.622875  51.507737               A            90.0                 3\n",
            "16 -10.128311  49.826441               B            48.0                 1\n",
            "17   3.142473  44.156610               C            85.0                 4\n",
            "18  -9.080241  55.714114               A            39.0                 4\n",
            "19 -14.123037  53.759665               A            33.0                 5\n",
            "20  14.656488  53.955160               A             NaN                 1\n",
            "21  -2.257763  45.453063               B            94.0                 3\n",
            "22   0.675282  57.013972               B            23.0                 4\n",
            "23 -14.247482  42.990745               C            10.0                 1\n",
            "24  -5.443827  52.934285               C            69.0                 4\n",
            "25   1.109226  60.952278               C            34.0                 4\n",
            "26 -11.509936  45.047318               B            52.0                 3\n",
            "27   3.756980  47.168511               B            95.0                 2\n",
            "28  -6.006387  50.498257               C            10.0                 5\n",
            "29  -2.916937  47.482622               C            19.0                 5\n"
          ]
        }
      ]
    },
    {
      "cell_type": "code",
      "source": [
        "# Step 2: Handling missing values\n",
        "print(\"\\nChecking for duplicates:\")\n",
        "print(df.duplicated().sum()) #Count duplicate rows\n",
        "df = df.drop_duplicates() # Remove duplicate rows"
      ],
      "metadata": {
        "colab": {
          "base_uri": "https://localhost:8080/"
        },
        "id": "WtbkvUE9QJZJ",
        "outputId": "7a6823e2-10cf-443a-cf51-14f9bba05a67"
      },
      "execution_count": null,
      "outputs": [
        {
          "output_type": "stream",
          "name": "stdout",
          "text": [
            "\n",
            "Checking for duplicates:\n",
            "5\n"
          ]
        }
      ]
    },
    {
      "cell_type": "code",
      "source": [
        "# Step 4: Encoding Categorical Variables\n",
        "print(\"\\nEncoding categorical variables\")\n",
        "categorical_cols = df.select_dtypes(include=['object']).columns #selecting categorical columns\n",
        "label_encoders = {}\n",
        "for col in categorical_cols:\n",
        "  le = LabelEncoder()\n",
        "  df[col] = le.fit_transform(df[col]) # Apply Label Encoding\n",
        "  label_encoders[col] = le\n",
        "\n",
        "  print(df.head()) # Display transformed dataset"
      ],
      "metadata": {
        "id": "LRkWGeC2T95G",
        "colab": {
          "base_uri": "https://localhost:8080/"
        },
        "outputId": "84b1317b-afcf-4793-f193-2dbcd5c00e7a"
      },
      "execution_count": null,
      "outputs": [
        {
          "output_type": "stream",
          "name": "stdout",
          "text": [
            "\n",
            "Encoding categorical variables\n",
            "   feature_1  feature_2  category_column  missing_values  duplicate_column\n",
            "0   4.967142  42.923146                1             NaN                 2\n",
            "1  -1.382643  47.896773                1            86.0                 1\n",
            "2   6.476885  48.286427                0            57.0                 5\n",
            "3  15.230299  45.988614                0            29.0                 4\n",
            "4  -2.341534  49.193571                0            78.0                 1\n"
          ]
        },
        {
          "output_type": "stream",
          "name": "stderr",
          "text": [
            "<ipython-input-24-0cd84e6dd0d1>:7: SettingWithCopyWarning: \n",
            "A value is trying to be set on a copy of a slice from a DataFrame.\n",
            "Try using .loc[row_indexer,col_indexer] = value instead\n",
            "\n",
            "See the caveats in the documentation: https://pandas.pydata.org/pandas-docs/stable/user_guide/indexing.html#returning-a-view-versus-a-copy\n",
            "  df[col] = le.fit_transform(df[col]) # Apply Label Encoding\n"
          ]
        }
      ]
    },
    {
      "cell_type": "code",
      "source": [
        "# Step 5: Feature Scaling\n",
        "print(\"\\nApplying feature scaling\")\n",
        "numeric_cols = df.select_dtypes(include=[np.number]).columns # Selecting numerical columns\n",
        "scaler = StandardScaler() #  Initializing standard scaler\n",
        "df[numeric_cols] = scaler.fit_transform(df[numeric_cols]) # Standardizing numerical features\n",
        "print(df.head()) # Display scaled dataset"
      ],
      "metadata": {
        "colab": {
          "base_uri": "https://localhost:8080/"
        },
        "id": "qeEIteTbdVka",
        "outputId": "3f6ed940-0906-4435-d158-e546ae332794"
      },
      "execution_count": null,
      "outputs": [
        {
          "output_type": "stream",
          "name": "stdout",
          "text": [
            "\n",
            "Applying feature scaling\n",
            "   feature_1  feature_2  category_column  missing_values  duplicate_column\n",
            "0   0.664619  -1.515115         0.037823             NaN         -0.761078\n",
            "1  -0.038089  -0.466809         0.037823        1.171394         -1.440611\n",
            "2   0.831697  -0.384681        -1.222959        0.190535          1.277523\n",
            "3   1.800406  -0.868997        -1.222959       -0.756502          0.597989\n",
            "4  -0.144206  -0.193479        -1.222959        0.900812         -1.440611\n"
          ]
        }
      ]
    },
    {
      "cell_type": "code",
      "source": [
        "# Step 6: Splitting Dataset into Training and Testing Sets\n",
        "print(\"\\nsplitting dataset into training and testing sets:\")\n",
        "x = df.drop(columns=['feature_1']) # Assuming 'feature_1' is the target variable\n",
        "y = df['feature_1']\n",
        "x_train, x_test, y_train, y_test = train_test_split(x, y, test_size=0.2, random_state=42)\n",
        "print(f\"Training set size: {x_train.shape}, Testing set size: {x_test.shape}\")\n",
        "\n",
        "print(\"\\nData Preprocessing Completed!\")"
      ],
      "metadata": {
        "colab": {
          "base_uri": "https://localhost:8080/"
        },
        "id": "vsvORYUdgkIR",
        "outputId": "65886614-5a55-4865-8d02-32c14afad2a8"
      },
      "execution_count": null,
      "outputs": [
        {
          "output_type": "stream",
          "name": "stdout",
          "text": [
            "\n",
            "splitting dataset into training and testing sets:\n",
            "Training set size: (80, 4), Testing set size: (20, 4)\n",
            "\n",
            "Data Preprocessing Completed!\n"
          ]
        }
      ]
    }
  ]
}